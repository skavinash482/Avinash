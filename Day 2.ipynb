{
 "cells": [
  {
   "cell_type": "code",
   "execution_count": 1,
   "id": "db430343-47ff-4ae7-814d-f3a8881df069",
   "metadata": {},
   "outputs": [],
   "source": [
    "import numpy as np\n",
    "import pandas as pd\n",
    "import matplotlib.pyplot as plt\n",
    "import seaborn as sns"
   ]
  },
  {
   "cell_type": "code",
   "execution_count": 2,
   "id": "27260012-f7f5-4cae-9bb4-8d3ca6943552",
   "metadata": {},
   "outputs": [],
   "source": [
    "apartments=[f\"Apt_{i}\" for i in range(1,21)]"
   ]
  },
  {
   "cell_type": "code",
   "execution_count": 3,
   "id": "fc90f37d-683e-4cf7-943c-5f5d35b598b5",
   "metadata": {},
   "outputs": [],
   "source": [
    "dates=pd.date_range(start='2025-07-01', periods=30, freq='D')"
   ]
  },
  {
   "cell_type": "code",
   "execution_count": 4,
   "id": "662481ac-2353-4c30-b70e-0a5ae9872fa0",
   "metadata": {},
   "outputs": [],
   "source": [
    "date={\n",
    "    \"Date\":np.tile(dates,len(apartments)),\n",
    "    \"Appartment\":np.repeat(apartments,len(dates)),\n",
    "    \"Electricity_usage\":np.random.normal(loc=20,scale=5,size=len(dates)*len(apartments))\n",
    "}\n",
    "                                         \n",
    "                           "
   ]
  },
  {
   "cell_type": "code",
   "execution_count": 5,
   "id": "d375a17b-e2dc-4471-82bb-424df5d33563",
   "metadata": {},
   "outputs": [],
   "source": [
    "df=pd.DataFrame(date)"
   ]
  },
  {
   "cell_type": "code",
   "execution_count": 6,
   "id": "080ff2de-aa40-4cad-99f4-814becf3ad15",
   "metadata": {},
   "outputs": [
    {
     "data": {
      "text/html": [
       "<div>\n",
       "<style scoped>\n",
       "    .dataframe tbody tr th:only-of-type {\n",
       "        vertical-align: middle;\n",
       "    }\n",
       "\n",
       "    .dataframe tbody tr th {\n",
       "        vertical-align: top;\n",
       "    }\n",
       "\n",
       "    .dataframe thead th {\n",
       "        text-align: right;\n",
       "    }\n",
       "</style>\n",
       "<table border=\"1\" class=\"dataframe\">\n",
       "  <thead>\n",
       "    <tr style=\"text-align: right;\">\n",
       "      <th></th>\n",
       "      <th>Date</th>\n",
       "      <th>Appartment</th>\n",
       "      <th>Electricity_usage</th>\n",
       "    </tr>\n",
       "  </thead>\n",
       "  <tbody>\n",
       "    <tr>\n",
       "      <th>0</th>\n",
       "      <td>2025-07-01</td>\n",
       "      <td>Apt_1</td>\n",
       "      <td>27.262968</td>\n",
       "    </tr>\n",
       "    <tr>\n",
       "      <th>1</th>\n",
       "      <td>2025-07-02</td>\n",
       "      <td>Apt_1</td>\n",
       "      <td>9.707738</td>\n",
       "    </tr>\n",
       "    <tr>\n",
       "      <th>2</th>\n",
       "      <td>2025-07-03</td>\n",
       "      <td>Apt_1</td>\n",
       "      <td>17.397916</td>\n",
       "    </tr>\n",
       "    <tr>\n",
       "      <th>3</th>\n",
       "      <td>2025-07-04</td>\n",
       "      <td>Apt_1</td>\n",
       "      <td>18.677627</td>\n",
       "    </tr>\n",
       "    <tr>\n",
       "      <th>4</th>\n",
       "      <td>2025-07-05</td>\n",
       "      <td>Apt_1</td>\n",
       "      <td>22.621408</td>\n",
       "    </tr>\n",
       "    <tr>\n",
       "      <th>...</th>\n",
       "      <td>...</td>\n",
       "      <td>...</td>\n",
       "      <td>...</td>\n",
       "    </tr>\n",
       "    <tr>\n",
       "      <th>595</th>\n",
       "      <td>2025-07-26</td>\n",
       "      <td>Apt_20</td>\n",
       "      <td>21.057502</td>\n",
       "    </tr>\n",
       "    <tr>\n",
       "      <th>596</th>\n",
       "      <td>2025-07-27</td>\n",
       "      <td>Apt_20</td>\n",
       "      <td>28.875531</td>\n",
       "    </tr>\n",
       "    <tr>\n",
       "      <th>597</th>\n",
       "      <td>2025-07-28</td>\n",
       "      <td>Apt_20</td>\n",
       "      <td>21.250356</td>\n",
       "    </tr>\n",
       "    <tr>\n",
       "      <th>598</th>\n",
       "      <td>2025-07-29</td>\n",
       "      <td>Apt_20</td>\n",
       "      <td>31.668408</td>\n",
       "    </tr>\n",
       "    <tr>\n",
       "      <th>599</th>\n",
       "      <td>2025-07-30</td>\n",
       "      <td>Apt_20</td>\n",
       "      <td>16.751726</td>\n",
       "    </tr>\n",
       "  </tbody>\n",
       "</table>\n",
       "<p>600 rows × 3 columns</p>\n",
       "</div>"
      ],
      "text/plain": [
       "          Date Appartment  Electricity_usage\n",
       "0   2025-07-01      Apt_1          27.262968\n",
       "1   2025-07-02      Apt_1           9.707738\n",
       "2   2025-07-03      Apt_1          17.397916\n",
       "3   2025-07-04      Apt_1          18.677627\n",
       "4   2025-07-05      Apt_1          22.621408\n",
       "..         ...        ...                ...\n",
       "595 2025-07-26     Apt_20          21.057502\n",
       "596 2025-07-27     Apt_20          28.875531\n",
       "597 2025-07-28     Apt_20          21.250356\n",
       "598 2025-07-29     Apt_20          31.668408\n",
       "599 2025-07-30     Apt_20          16.751726\n",
       "\n",
       "[600 rows x 3 columns]"
      ]
     },
     "execution_count": 6,
     "metadata": {},
     "output_type": "execute_result"
    }
   ],
   "source": [
    "df"
   ]
  },
  {
   "cell_type": "code",
   "execution_count": 7,
   "id": "723d9add-6b0b-4ea6-bfd8-0da13d3fb5ed",
   "metadata": {},
   "outputs": [
    {
     "data": {
      "text/html": [
       "<div>\n",
       "<style scoped>\n",
       "    .dataframe tbody tr th:only-of-type {\n",
       "        vertical-align: middle;\n",
       "    }\n",
       "\n",
       "    .dataframe tbody tr th {\n",
       "        vertical-align: top;\n",
       "    }\n",
       "\n",
       "    .dataframe thead th {\n",
       "        text-align: right;\n",
       "    }\n",
       "</style>\n",
       "<table border=\"1\" class=\"dataframe\">\n",
       "  <thead>\n",
       "    <tr style=\"text-align: right;\">\n",
       "      <th></th>\n",
       "      <th>Date</th>\n",
       "      <th>Appartment</th>\n",
       "      <th>Electricity_usage</th>\n",
       "    </tr>\n",
       "  </thead>\n",
       "  <tbody>\n",
       "    <tr>\n",
       "      <th>0</th>\n",
       "      <td>2025-07-01</td>\n",
       "      <td>Apt_1</td>\n",
       "      <td>27.26</td>\n",
       "    </tr>\n",
       "    <tr>\n",
       "      <th>1</th>\n",
       "      <td>2025-07-02</td>\n",
       "      <td>Apt_1</td>\n",
       "      <td>9.71</td>\n",
       "    </tr>\n",
       "    <tr>\n",
       "      <th>2</th>\n",
       "      <td>2025-07-03</td>\n",
       "      <td>Apt_1</td>\n",
       "      <td>17.40</td>\n",
       "    </tr>\n",
       "    <tr>\n",
       "      <th>3</th>\n",
       "      <td>2025-07-04</td>\n",
       "      <td>Apt_1</td>\n",
       "      <td>18.68</td>\n",
       "    </tr>\n",
       "    <tr>\n",
       "      <th>4</th>\n",
       "      <td>2025-07-05</td>\n",
       "      <td>Apt_1</td>\n",
       "      <td>22.62</td>\n",
       "    </tr>\n",
       "    <tr>\n",
       "      <th>...</th>\n",
       "      <td>...</td>\n",
       "      <td>...</td>\n",
       "      <td>...</td>\n",
       "    </tr>\n",
       "    <tr>\n",
       "      <th>595</th>\n",
       "      <td>2025-07-26</td>\n",
       "      <td>Apt_20</td>\n",
       "      <td>21.06</td>\n",
       "    </tr>\n",
       "    <tr>\n",
       "      <th>596</th>\n",
       "      <td>2025-07-27</td>\n",
       "      <td>Apt_20</td>\n",
       "      <td>28.88</td>\n",
       "    </tr>\n",
       "    <tr>\n",
       "      <th>597</th>\n",
       "      <td>2025-07-28</td>\n",
       "      <td>Apt_20</td>\n",
       "      <td>21.25</td>\n",
       "    </tr>\n",
       "    <tr>\n",
       "      <th>598</th>\n",
       "      <td>2025-07-29</td>\n",
       "      <td>Apt_20</td>\n",
       "      <td>31.67</td>\n",
       "    </tr>\n",
       "    <tr>\n",
       "      <th>599</th>\n",
       "      <td>2025-07-30</td>\n",
       "      <td>Apt_20</td>\n",
       "      <td>16.75</td>\n",
       "    </tr>\n",
       "  </tbody>\n",
       "</table>\n",
       "<p>600 rows × 3 columns</p>\n",
       "</div>"
      ],
      "text/plain": [
       "          Date Appartment  Electricity_usage\n",
       "0   2025-07-01      Apt_1              27.26\n",
       "1   2025-07-02      Apt_1               9.71\n",
       "2   2025-07-03      Apt_1              17.40\n",
       "3   2025-07-04      Apt_1              18.68\n",
       "4   2025-07-05      Apt_1              22.62\n",
       "..         ...        ...                ...\n",
       "595 2025-07-26     Apt_20              21.06\n",
       "596 2025-07-27     Apt_20              28.88\n",
       "597 2025-07-28     Apt_20              21.25\n",
       "598 2025-07-29     Apt_20              31.67\n",
       "599 2025-07-30     Apt_20              16.75\n",
       "\n",
       "[600 rows x 3 columns]"
      ]
     },
     "execution_count": 7,
     "metadata": {},
     "output_type": "execute_result"
    }
   ],
   "source": [
    "df[\"Electricity_usage\"]=df[\"Electricity_usage\"].round(2)\n",
    "df"
   ]
  },
  {
   "cell_type": "code",
   "execution_count": 8,
   "id": "e5213bca-7bbb-4077-8a8d-d3ec3d023a43",
   "metadata": {},
   "outputs": [
    {
     "data": {
      "text/plain": [
       "Date                 0\n",
       "Appartment           0\n",
       "Electricity_usage    0\n",
       "dtype: int64"
      ]
     },
     "execution_count": 8,
     "metadata": {},
     "output_type": "execute_result"
    }
   ],
   "source": [
    "df.isnull().sum()"
   ]
  },
  {
   "cell_type": "code",
   "execution_count": 9,
   "id": "4c13fb2c-8042-4a7a-88e3-9ec21bfcc825",
   "metadata": {},
   "outputs": [
    {
     "data": {
      "text/plain": [
       "Date                 datetime64[ns]\n",
       "Appartment                   object\n",
       "Electricity_usage           float64\n",
       "dtype: object"
      ]
     },
     "execution_count": 9,
     "metadata": {},
     "output_type": "execute_result"
    }
   ],
   "source": [
    "df.dtypes"
   ]
  },
  {
   "cell_type": "code",
   "execution_count": 10,
   "id": "bfa4bf60-f4fa-4ff6-a4bb-dc77e3569067",
   "metadata": {},
   "outputs": [
    {
     "data": {
      "text/html": [
       "<div>\n",
       "<style scoped>\n",
       "    .dataframe tbody tr th:only-of-type {\n",
       "        vertical-align: middle;\n",
       "    }\n",
       "\n",
       "    .dataframe tbody tr th {\n",
       "        vertical-align: top;\n",
       "    }\n",
       "\n",
       "    .dataframe thead th {\n",
       "        text-align: right;\n",
       "    }\n",
       "</style>\n",
       "<table border=\"1\" class=\"dataframe\">\n",
       "  <thead>\n",
       "    <tr style=\"text-align: right;\">\n",
       "      <th></th>\n",
       "      <th>Date</th>\n",
       "      <th>Appartment</th>\n",
       "      <th>Electricity_usage</th>\n",
       "    </tr>\n",
       "  </thead>\n",
       "  <tbody>\n",
       "    <tr>\n",
       "      <th>0</th>\n",
       "      <td>2025-07-01</td>\n",
       "      <td>Apt_1</td>\n",
       "      <td>27.26</td>\n",
       "    </tr>\n",
       "    <tr>\n",
       "      <th>1</th>\n",
       "      <td>2025-07-02</td>\n",
       "      <td>Apt_1</td>\n",
       "      <td>9.71</td>\n",
       "    </tr>\n",
       "    <tr>\n",
       "      <th>2</th>\n",
       "      <td>2025-07-03</td>\n",
       "      <td>Apt_1</td>\n",
       "      <td>17.40</td>\n",
       "    </tr>\n",
       "    <tr>\n",
       "      <th>3</th>\n",
       "      <td>2025-07-04</td>\n",
       "      <td>Apt_1</td>\n",
       "      <td>18.68</td>\n",
       "    </tr>\n",
       "    <tr>\n",
       "      <th>4</th>\n",
       "      <td>2025-07-05</td>\n",
       "      <td>Apt_1</td>\n",
       "      <td>22.62</td>\n",
       "    </tr>\n",
       "  </tbody>\n",
       "</table>\n",
       "</div>"
      ],
      "text/plain": [
       "        Date Appartment  Electricity_usage\n",
       "0 2025-07-01      Apt_1              27.26\n",
       "1 2025-07-02      Apt_1               9.71\n",
       "2 2025-07-03      Apt_1              17.40\n",
       "3 2025-07-04      Apt_1              18.68\n",
       "4 2025-07-05      Apt_1              22.62"
      ]
     },
     "execution_count": 10,
     "metadata": {},
     "output_type": "execute_result"
    }
   ],
   "source": [
    "df.head()"
   ]
  },
  {
   "cell_type": "code",
   "execution_count": 11,
   "id": "b67bf35d-874b-4221-8a76-c82a2343ba2f",
   "metadata": {},
   "outputs": [
    {
     "data": {
      "text/html": [
       "<div>\n",
       "<style scoped>\n",
       "    .dataframe tbody tr th:only-of-type {\n",
       "        vertical-align: middle;\n",
       "    }\n",
       "\n",
       "    .dataframe tbody tr th {\n",
       "        vertical-align: top;\n",
       "    }\n",
       "\n",
       "    .dataframe thead th {\n",
       "        text-align: right;\n",
       "    }\n",
       "</style>\n",
       "<table border=\"1\" class=\"dataframe\">\n",
       "  <thead>\n",
       "    <tr style=\"text-align: right;\">\n",
       "      <th></th>\n",
       "      <th>Date</th>\n",
       "      <th>Appartment</th>\n",
       "      <th>Electricity_usage</th>\n",
       "    </tr>\n",
       "  </thead>\n",
       "  <tbody>\n",
       "    <tr>\n",
       "      <th>595</th>\n",
       "      <td>2025-07-26</td>\n",
       "      <td>Apt_20</td>\n",
       "      <td>21.06</td>\n",
       "    </tr>\n",
       "    <tr>\n",
       "      <th>596</th>\n",
       "      <td>2025-07-27</td>\n",
       "      <td>Apt_20</td>\n",
       "      <td>28.88</td>\n",
       "    </tr>\n",
       "    <tr>\n",
       "      <th>597</th>\n",
       "      <td>2025-07-28</td>\n",
       "      <td>Apt_20</td>\n",
       "      <td>21.25</td>\n",
       "    </tr>\n",
       "    <tr>\n",
       "      <th>598</th>\n",
       "      <td>2025-07-29</td>\n",
       "      <td>Apt_20</td>\n",
       "      <td>31.67</td>\n",
       "    </tr>\n",
       "    <tr>\n",
       "      <th>599</th>\n",
       "      <td>2025-07-30</td>\n",
       "      <td>Apt_20</td>\n",
       "      <td>16.75</td>\n",
       "    </tr>\n",
       "  </tbody>\n",
       "</table>\n",
       "</div>"
      ],
      "text/plain": [
       "          Date Appartment  Electricity_usage\n",
       "595 2025-07-26     Apt_20              21.06\n",
       "596 2025-07-27     Apt_20              28.88\n",
       "597 2025-07-28     Apt_20              21.25\n",
       "598 2025-07-29     Apt_20              31.67\n",
       "599 2025-07-30     Apt_20              16.75"
      ]
     },
     "execution_count": 11,
     "metadata": {},
     "output_type": "execute_result"
    }
   ],
   "source": [
    "df.tail()"
   ]
  },
  {
   "cell_type": "code",
   "execution_count": 12,
   "id": "ca28126e-cdd6-41d9-aa62-be079f64fac0",
   "metadata": {},
   "outputs": [
    {
     "data": {
      "text/plain": [
       "(600, 3)"
      ]
     },
     "execution_count": 12,
     "metadata": {},
     "output_type": "execute_result"
    }
   ],
   "source": [
    "df.shape"
   ]
  },
  {
   "cell_type": "code",
   "execution_count": 13,
   "id": "ae2f7d0a-8e95-4e64-8fc9-5b6b5c5d0fcc",
   "metadata": {},
   "outputs": [
    {
     "name": "stdout",
     "output_type": "stream",
     "text": [
      "<class 'pandas.core.frame.DataFrame'>\n",
      "RangeIndex: 600 entries, 0 to 599\n",
      "Data columns (total 3 columns):\n",
      " #   Column             Non-Null Count  Dtype         \n",
      "---  ------             --------------  -----         \n",
      " 0   Date               600 non-null    datetime64[ns]\n",
      " 1   Appartment         600 non-null    object        \n",
      " 2   Electricity_usage  600 non-null    float64       \n",
      "dtypes: datetime64[ns](1), float64(1), object(1)\n",
      "memory usage: 14.2+ KB\n"
     ]
    }
   ],
   "source": [
    "df.info()"
   ]
  },
  {
   "cell_type": "code",
   "execution_count": 14,
   "id": "a07eedc0-defe-46ab-b708-80cc04567071",
   "metadata": {},
   "outputs": [
    {
     "name": "stdout",
     "output_type": "stream",
     "text": [
      "Appartment\n",
      "Apt_4     634.65\n",
      "Apt_1     630.76\n",
      "Apt_7     617.95\n",
      "Apt_19    615.41\n",
      "Apt_10    607.28\n",
      "Apt_6     606.18\n",
      "Apt_20    603.96\n",
      "Apt_17    601.94\n",
      "Apt_5     600.96\n",
      "Apt_9     599.18\n",
      "Apt_14    599.12\n",
      "Apt_3     597.74\n",
      "Apt_16    596.58\n",
      "Apt_18    595.81\n",
      "Apt_13    584.21\n",
      "Apt_11    571.52\n",
      "Apt_12    564.01\n",
      "Apt_15    563.63\n",
      "Apt_8     555.62\n",
      "Apt_2     538.25\n",
      "Name: Electricity_usage, dtype: float64\n"
     ]
    }
   ],
   "source": [
    "usage_per_apartment=df.groupby(\"Appartment\")[\"Electricity_usage\"].sum().sort_values(ascending=False)\n",
    "print(usage_per_apartment)"
   ]
  },
  {
   "cell_type": "code",
   "execution_count": 15,
   "id": "bbe32533-080a-4ddb-bb1d-0f96b538c398",
   "metadata": {},
   "outputs": [
    {
     "name": "stdout",
     "output_type": "stream",
     "text": [
      "Date\n",
      "2025-07-01    19.5175\n",
      "2025-07-02    19.1165\n",
      "2025-07-03    19.9335\n",
      "2025-07-04    18.7305\n",
      "2025-07-05    18.1980\n",
      "Name: Electricity_usage, dtype: float64\n"
     ]
    }
   ],
   "source": [
    "daily_avg=df.groupby(\"Date\")[\"Electricity_usage\"].mean()\n",
    "print(daily_avg.head())"
   ]
  },
  {
   "cell_type": "code",
   "execution_count": 16,
   "id": "096239a9-e95d-4f50-a7ec-09922ba90d7d",
   "metadata": {},
   "outputs": [
    {
     "data": {
      "image/png": "[encoded data removed]",
      "text/plain": [
       "<Figure size 1000x600 with 1 Axes>"
      ]
     },
     "metadata": {},
     "output_type": "display_data"
    }
   ],
   "source": [
    "plt.figure(figsize=(10,6))\n",
    "sns.barplot(x=usage_per_apartment.index, y= usage_per_apartment.values)\n",
    "plt.xticks(rotation=90)\n",
    "plt.title(\"Total usage per Apartments\")\n",
    "plt.xlabel(\"Appartment\")\n",
    "plt.ylabel(\"Total KW1\")\n",
    "plt.tight_layout()\n",
    "plt.show()"
   ]
  },
  {
   "cell_type": "code",
   "execution_count": 17,
   "id": "0bf8d9c2-d619-4ea3-9ed2-b56be3b79ec8",
   "metadata": {},
   "outputs": [
    {
     "data": {
      "image/png": "[encoded data removed]",
      "text/plain": [
       "<Figure size 1000x600 with 1 Axes>"
      ]
     },
     "metadata": {},
     "output_type": "display_data"
    }
   ],
   "source": [
    "plt.figure(figsize=(10,6))\n",
    "sns.lineplot(x=daily_avg.index, y=daily_avg.values)\n",
    "plt.xticks(rotation=90)\n",
    "plt.title(\"Total usage per Apartments\")\n",
    "plt.xlabel(\"Appartment\")\n",
    "plt.ylabel(\"Total KW1\")\n",
    "plt.tight_layout()\n",
    "plt.show()"
   ]
  },
  {
   "cell_type": "code",
   "execution_count": 18,
   "id": "3b5a4c81-e9a1-4c1d-aff2-c924235c5b2c",
   "metadata": {},
   "outputs": [
    {
     "name": "stdout",
     "output_type": "stream",
     "text": [
      "          Date Appartment  Electricity_usage  High_usage_flag\n",
      "17  2025-07-18      Apt_1              31.56             True\n",
      "95  2025-07-06      Apt_4              36.67             True\n",
      "138 2025-07-19      Apt_5              33.23             True\n",
      "142 2025-07-23      Apt_5              30.65             True\n",
      "190 2025-07-11      Apt_7              30.98             True\n"
     ]
    }
   ],
   "source": [
    "thresholds=df[\"Electricity_usage\"].mean()+2 *df[\"Electricity_usage\"].std()\n",
    "df[\"High_usage_flag\"]=df[\"Electricity_usage\"] > thresholds\n",
    "print(df[df[\"High_usage_flag\"] == True].head())"
   ]
  },
  {
   "cell_type": "code",
   "execution_count": null,
   "id": "5557a240-eaac-4557-a69b-e19d85e7d5ef",
   "metadata": {},
   "outputs": [],
   "source": []
  }
 ],
 "metadata": {
  "kernelspec": {
   "display_name": "Python 3",
   "language": "python",
   "name": "python3"
  },
  "language_info": {
   "codemirror_mode": {
    "name": "ipython",
    "version": 3
   },
   "file_extension": ".py",
   "mimetype": "text/x-python",
   "name": "python",
   "nbconvert_exporter": "python",
   "pygments_lexer": "ipython3",
   "version": "3.12.10"
  }
 },
 "nbformat": 4,
 "nbformat_minor": 5
}
