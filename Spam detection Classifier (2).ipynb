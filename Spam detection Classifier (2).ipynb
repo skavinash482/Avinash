{
 "cells": [
  {
   "cell_type": "code",
   "execution_count": 9,
   "id": "d5306075-efce-4823-b748-e2915557ac86",
   "metadata": {},
   "outputs": [],
   "source": [
    "import pandas as pd\n",
    "import numpy as np\n",
    "from sklearn.feature_extraction.text import CountVectorizer\n",
    "from sklearn.model_selection import train_test_split\n",
    "from sklearn.naive_bayes import MultinomialNB\n",
    "from sklearn.metrics import accuracy_score, classification_report"
   ]
  },
  {
   "cell_type": "code",
   "execution_count": 10,
   "id": "2afe7b1e-329a-4fc5-aa98-ef844454f52e",
   "metadata": {},
   "outputs": [],
   "source": [
    "data={\n",
    "    \"text\":[\n",
    "        \"Win money now\",\n",
    "        \"Limited offer just for you\",\n",
    "        \"Hi,How are you?\",\n",
    "        \"call me tomorrow\",\n",
    "        \"Free tickets available\",\n",
    "        \"Congragulations,you won!\",\n",
    "        \"Are you coming to the party?\",\n",
    "        \"Let's grab lunch today\",\n",
    "        \"Earn extra cash fast\",\n",
    "        \"Meet at 3pm\",\n",
    "    ],\n",
    "    \"label\":[1,1,0,0,1,1,0,0,1,0]\n",
    "}"
   ]
  },
  {
   "cell_type": "code",
   "execution_count": 11,
   "id": "1437b18e-f240-4797-a944-49129d34de4d",
   "metadata": {},
   "outputs": [
    {
     "data": {
      "text/html": [
       "<div>\n",
       "<style scoped>\n",
       "    .dataframe tbody tr th:only-of-type {\n",
       "        vertical-align: middle;\n",
       "    }\n",
       "\n",
       "    .dataframe tbody tr th {\n",
       "        vertical-align: top;\n",
       "    }\n",
       "\n",
       "    .dataframe thead th {\n",
       "        text-align: right;\n",
       "    }\n",
       "</style>\n",
       "<table border=\"1\" class=\"dataframe\">\n",
       "  <thead>\n",
       "    <tr style=\"text-align: right;\">\n",
       "      <th></th>\n",
       "      <th>text</th>\n",
       "      <th>label</th>\n",
       "    </tr>\n",
       "  </thead>\n",
       "  <tbody>\n",
       "    <tr>\n",
       "      <th>0</th>\n",
       "      <td>Win money now</td>\n",
       "      <td>1</td>\n",
       "    </tr>\n",
       "    <tr>\n",
       "      <th>1</th>\n",
       "      <td>Limited offer just for you</td>\n",
       "      <td>1</td>\n",
       "    </tr>\n",
       "    <tr>\n",
       "      <th>2</th>\n",
       "      <td>Hi,How are you?</td>\n",
       "      <td>0</td>\n",
       "    </tr>\n",
       "    <tr>\n",
       "      <th>3</th>\n",
       "      <td>call me tomorrow</td>\n",
       "      <td>0</td>\n",
       "    </tr>\n",
       "    <tr>\n",
       "      <th>4</th>\n",
       "      <td>Free tickets available</td>\n",
       "      <td>1</td>\n",
       "    </tr>\n",
       "    <tr>\n",
       "      <th>5</th>\n",
       "      <td>Congragulations,you won!</td>\n",
       "      <td>1</td>\n",
       "    </tr>\n",
       "    <tr>\n",
       "      <th>6</th>\n",
       "      <td>Are you coming to the party?</td>\n",
       "      <td>0</td>\n",
       "    </tr>\n",
       "    <tr>\n",
       "      <th>7</th>\n",
       "      <td>Let's grab lunch today</td>\n",
       "      <td>0</td>\n",
       "    </tr>\n",
       "    <tr>\n",
       "      <th>8</th>\n",
       "      <td>Earn extra cash fast</td>\n",
       "      <td>1</td>\n",
       "    </tr>\n",
       "    <tr>\n",
       "      <th>9</th>\n",
       "      <td>Meet at 3pm</td>\n",
       "      <td>0</td>\n",
       "    </tr>\n",
       "  </tbody>\n",
       "</table>\n",
       "</div>"
      ],
      "text/plain": [
       "                           text  label\n",
       "0                 Win money now      1\n",
       "1    Limited offer just for you      1\n",
       "2               Hi,How are you?      0\n",
       "3              call me tomorrow      0\n",
       "4        Free tickets available      1\n",
       "5      Congragulations,you won!      1\n",
       "6  Are you coming to the party?      0\n",
       "7        Let's grab lunch today      0\n",
       "8          Earn extra cash fast      1\n",
       "9                   Meet at 3pm      0"
      ]
     },
     "execution_count": 11,
     "metadata": {},
     "output_type": "execute_result"
    }
   ],
   "source": [
    "df=pd.DataFrame(data)\n",
    "df"
   ]
  },
  {
   "cell_type": "code",
   "execution_count": 12,
   "id": "034d3deb-e268-47ea-a2e4-2e8e26caffe3",
   "metadata": {},
   "outputs": [],
   "source": [
    "vectorizer=CountVectorizer()\n",
    "x=vectorizer.fit_transform(df[\"text\"])\n",
    "y=df[\"label\"]"
   ]
  },
  {
   "cell_type": "code",
   "execution_count": 13,
   "id": "78a0c386-99a7-4b68-8cac-698eba1df31a",
   "metadata": {},
   "outputs": [],
   "source": [
    "x_train,x_test,y_train,y_test=train_test_split(x,y,test_size=0.2,random_state=42)\n",
    "model=MultinomialNB()"
   ]
  },
  {
   "cell_type": "markdown",
   "id": "22785df8-a88e-498e-840c-f71ca031d7da",
   "metadata": {},
   "source": [
    "model.fit(x_train,y_train)\n",
    "y_pred=model.predict(x_test)"
   ]
  },
  {
   "cell_type": "code",
   "execution_count": 14,
   "id": "f9b590e1-8c20-41e0-8d58-e735db4d201c",
   "metadata": {},
   "outputs": [],
   "source": [
    "model.fit(x_train,y_train)\n",
    "y_pred=model.predict(x_test)"
   ]
  },
  {
   "cell_type": "code",
   "execution_count": 15,
   "id": "64fd6aa0-c529-4476-ab19-4ae38b22729a",
   "metadata": {},
   "outputs": [
    {
     "name": "stdout",
     "output_type": "stream",
     "text": [
      "Accuracy: 1.0\n",
      "Classification Report:\n",
      "               precision    recall  f1-score   support\n",
      "\n",
      "           1       1.00      1.00      1.00         2\n",
      "\n",
      "    accuracy                           1.00         2\n",
      "   macro avg       1.00      1.00      1.00         2\n",
      "weighted avg       1.00      1.00      1.00         2\n",
      "\n"
     ]
    }
   ],
   "source": [
    "print(\"Accuracy:\", accuracy_score(y_test, y_pred))\n",
    "print(\"Classification Report:\\n\", classification_report(y_test, y_pred))"
   ]
  },
  {
   "cell_type": "code",
   "execution_count": 16,
   "id": "9bbe6383-ba2c-4d94-9492-3564f491da5b",
   "metadata": {},
   "outputs": [],
   "source": [
    "new_messages=[\"Win a Free Laptop now\",\"Let's have a meeting today\"]\n",
    "new_features=vectorizer.transform(new_messages)\n",
    "predictions=model.predict(new_features)"
   ]
  },
  {
   "cell_type": "code",
   "execution_count": 17,
   "id": "0ea891d6-fc19-47d9-abce-aaab52403334",
   "metadata": {},
   "outputs": [
    {
     "name": "stdout",
     "output_type": "stream",
     "text": [
      "'Win a Free Laptop now' -> Spam\n",
      "'Let's have a meeting today' -> Not Spam\n"
     ]
    }
   ],
   "source": [
    "for msg, label in zip(new_messages, predictions):\n",
    " print (f\"'{msg}' -> {'Spam' if label == 1 else 'Not Spam'}\")"
   ]
  },
  {
   "cell_type": "code",
   "execution_count": null,
   "id": "eaf4cabe-56f9-48af-a727-8c33adad476c",
   "metadata": {},
   "outputs": [],
   "source": []
  },
  {
   "cell_type": "code",
   "execution_count": null,
   "id": "85f94017-bad2-4419-82f4-1a0d2a06e29f",
   "metadata": {},
   "outputs": [],
   "source": []
  }
 ],
 "metadata": {
  "kernelspec": {
   "display_name": "Python 3 (ipykernel)",
   "language": "python",
   "name": "python3"
  },
  "language_info": {
   "codemirror_mode": {
    "name": "ipython",
    "version": 3
   },
   "file_extension": ".py",
   "mimetype": "text/x-python",
   "name": "python",
   "nbconvert_exporter": "python",
   "pygments_lexer": "ipython3",
   "version": "3.13.5"
  }
 },
 "nbformat": 4,
 "nbformat_minor": 5
}
