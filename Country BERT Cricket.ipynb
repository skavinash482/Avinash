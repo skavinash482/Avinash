{
 "cells": [
  {
   "cell_type": "code",
   "execution_count": 1,
   "id": "c6ee7a71-530c-499e-9329-8d7f1d655781",
   "metadata": {},
   "outputs": [
    {
     "name": "stdout",
     "output_type": "stream",
     "text": [
      "Requirement already satisfied: transformers in c:\\users\\avinash\\anaconda3\\lib\\site-packages (4.55.2)\n",
      "Requirement already satisfied: torch in c:\\users\\avinash\\anaconda3\\lib\\site-packages (2.8.0)\n",
      "Requirement already satisfied: scikit-learn in c:\\users\\avinash\\anaconda3\\lib\\site-packages (1.6.1)\n",
      "Requirement already satisfied: filelock in c:\\users\\avinash\\anaconda3\\lib\\site-packages (from transformers) (3.17.0)\n",
      "Requirement already satisfied: huggingface-hub<1.0,>=0.34.0 in c:\\users\\avinash\\anaconda3\\lib\\site-packages (from transformers) (0.34.4)\n",
      "Requirement already satisfied: numpy>=1.17 in c:\\users\\avinash\\anaconda3\\lib\\site-packages (from transformers) (2.1.3)\n",
      "Requirement already satisfied: packaging>=20.0 in c:\\users\\avinash\\anaconda3\\lib\\site-packages (from transformers) (24.2)\n",
      "Requirement already satisfied: pyyaml>=5.1 in c:\\users\\avinash\\anaconda3\\lib\\site-packages (from transformers) (6.0.2)\n",
      "Requirement already satisfied: regex!=2019.12.17 in c:\\users\\avinash\\anaconda3\\lib\\site-packages (from transformers) (2024.11.6)\n",
      "Requirement already satisfied: requests in c:\\users\\avinash\\anaconda3\\lib\\site-packages (from transformers) (2.32.3)\n",
      "Requirement already satisfied: tokenizers<0.22,>=0.21 in c:\\users\\avinash\\anaconda3\\lib\\site-packages (from transformers) (0.21.4)\n",
      "Requirement already satisfied: safetensors>=0.4.3 in c:\\users\\avinash\\anaconda3\\lib\\site-packages (from transformers) (0.6.2)\n",
      "Requirement already satisfied: tqdm>=4.27 in c:\\users\\avinash\\anaconda3\\lib\\site-packages (from transformers) (4.67.1)\n",
      "Requirement already satisfied: fsspec>=2023.5.0 in c:\\users\\avinash\\anaconda3\\lib\\site-packages (from huggingface-hub<1.0,>=0.34.0->transformers) (2025.3.2)\n",
      "Requirement already satisfied: typing-extensions>=3.7.4.3 in c:\\users\\avinash\\anaconda3\\lib\\site-packages (from huggingface-hub<1.0,>=0.34.0->transformers) (4.12.2)\n",
      "Requirement already satisfied: sympy>=1.13.3 in c:\\users\\avinash\\anaconda3\\lib\\site-packages (from torch) (1.13.3)\n",
      "Requirement already satisfied: networkx in c:\\users\\avinash\\anaconda3\\lib\\site-packages (from torch) (3.4.2)\n",
      "Requirement already satisfied: jinja2 in c:\\users\\avinash\\anaconda3\\lib\\site-packages (from torch) (3.1.6)\n",
      "Requirement already satisfied: setuptools in c:\\users\\avinash\\anaconda3\\lib\\site-packages (from torch) (72.1.0)\n",
      "Requirement already satisfied: scipy>=1.6.0 in c:\\users\\avinash\\anaconda3\\lib\\site-packages (from scikit-learn) (1.15.3)\n",
      "Requirement already satisfied: joblib>=1.2.0 in c:\\users\\avinash\\anaconda3\\lib\\site-packages (from scikit-learn) (1.4.2)\n",
      "Requirement already satisfied: threadpoolctl>=3.1.0 in c:\\users\\avinash\\anaconda3\\lib\\site-packages (from scikit-learn) (3.5.0)\n",
      "Requirement already satisfied: mpmath<1.4,>=1.1.0 in c:\\users\\avinash\\anaconda3\\lib\\site-packages (from sympy>=1.13.3->torch) (1.3.0)\n",
      "Requirement already satisfied: colorama in c:\\users\\avinash\\anaconda3\\lib\\site-packages (from tqdm>=4.27->transformers) (0.4.6)\n",
      "Requirement already satisfied: MarkupSafe>=2.0 in c:\\users\\avinash\\anaconda3\\lib\\site-packages (from jinja2->torch) (3.0.2)\n",
      "Requirement already satisfied: charset-normalizer<4,>=2 in c:\\users\\avinash\\anaconda3\\lib\\site-packages (from requests->transformers) (3.3.2)\n",
      "Requirement already satisfied: idna<4,>=2.5 in c:\\users\\avinash\\anaconda3\\lib\\site-packages (from requests->transformers) (3.7)\n",
      "Requirement already satisfied: urllib3<3,>=1.21.1 in c:\\users\\avinash\\anaconda3\\lib\\site-packages (from requests->transformers) (2.3.0)\n",
      "Requirement already satisfied: certifi>=2017.4.17 in c:\\users\\avinash\\anaconda3\\lib\\site-packages (from requests->transformers) (2025.4.26)\n"
     ]
    }
   ],
   "source": [
    "!pip install transformers torch scikit-learn "
   ]
  },
  {
   "cell_type": "code",
   "execution_count": 2,
   "id": "59558715-8426-41f3-8817-5e0df2e2081f",
   "metadata": {},
   "outputs": [],
   "source": [
    "from transformers import AutoTokenizer, AutoModel \n",
    "import torch \n",
    "from sklearn.metrics.pairwise import cosine_similarity \n"
   ]
  },
  {
   "cell_type": "code",
   "execution_count": 3,
   "id": "c5583cab-c5cc-45ba-8d2d-e1f69e18c21e",
   "metadata": {},
   "outputs": [],
   "source": [
    "tokenizer = AutoTokenizer.from_pretrained(\"bert-base-uncased\") \n",
    "model = AutoModel.from_pretrained(\"bert-base-uncased\")"
   ]
  },
  {
   "cell_type": "code",
   "execution_count": 4,
   "id": "87025593-92d3-4247-a7db-cd9e3fbe359e",
   "metadata": {},
   "outputs": [],
   "source": [
    "cricketers = { \n",
    "    \"MS Dhoni\": \"India\", \n",
    "    \"Virat Kohli\": \"India\", \n",
    "    \"Ricky Ponting\": \"Australia\", \n",
    "    \"Steve Smith\": \"Australia\", \n",
    "    \"Kane Williamson\": \"New Zealand\", \n",
    "    \"Joe Root\": \"England\" \n",
    "}"
   ]
  },
  {
   "cell_type": "code",
   "execution_count": 5,
   "id": "acc8eca3-7234-4a41-a9c0-69b8d29dbfa8",
   "metadata": {},
   "outputs": [],
   "source": [
    "def get_embedding(text): \n",
    "    inputs = tokenizer(text, return_tensors=\"pt\", truncation=True,padding=True) \n",
    "    with torch.no_grad(): \n",
    "        outputs = model(**inputs) \n",
    "    return outputs.last_hidden_state.mean(dim=1).numpy()"
   ]
  },
  {
   "cell_type": "code",
   "execution_count": 7,
   "id": "a0ded05c-2757-4c4b-9c45-252359715128",
   "metadata": {},
   "outputs": [],
   "source": [
    "def check_country_similarity(player, country):\n",
    "    player_emb = get_embedding(player)\n",
    "    country_emb = get_embedding(country)\n",
    "    similarity_score = cosine_similarity(player_emb, country_emb)[0][0]\n",
    "    return similarity_score\n"
   ]
  },
  {
   "cell_type": "code",
   "execution_count": 8,
   "id": "3d371467-88da-41b1-b6e7-f0beb0d03615",
   "metadata": {},
   "outputs": [],
   "source": [
    "test_cases = [ \n",
    "(\"MS Dhoni\", \"India\"), \n",
    "(\"MS Dhoni\", \"Australia\"), \n",
    "(\"Ricky Ponting\", \"Australia\"), \n",
    "(\"Virat Kohli\", \"India\"), \n",
    "(\"Kane Williamson\", \"New Zealand\"), \n",
    "(\"Joe Root\", \"India\") \n",
    "]"
   ]
  },
  {
   "cell_type": "code",
   "execution_count": 10,
   "id": "ba658d8b-ec59-4835-92dc-c8428e1d0c49",
   "metadata": {},
   "outputs": [
    {
     "name": "stdout",
     "output_type": "stream",
     "text": [
      "Joe Root - India | Similarity: 0.68 | NO MATCH  \n"
     ]
    }
   ],
   "source": [
    "threshold = 0.75  # You can adjust this \n",
    "for player, country in test_cases: \n",
    "    score = check_country_similarity(player, country) \n",
    "match = \"MATCH   \" if score >= threshold else \"NO MATCH  \" \n",
    "print(f\"{player} - {country} | Similarity: {score:.2f} | {match}\")"
   ]
  },
  {
   "cell_type": "code",
   "execution_count": null,
   "id": "39f0e4ca-c80c-4ca4-8b73-5faa5fa6b54c",
   "metadata": {},
   "outputs": [],
   "source": []
  }
 ],
 "metadata": {
  "kernelspec": {
   "display_name": "Python 3 (ipykernel)",
   "language": "python",
   "name": "python3"
  },
  "language_info": {
   "codemirror_mode": {
    "name": "ipython",
    "version": 3
   },
   "file_extension": ".py",
   "mimetype": "text/x-python",
   "name": "python",
   "nbconvert_exporter": "python",
   "pygments_lexer": "ipython3",
   "version": "3.13.5"
  }
 },
 "nbformat": 4,
 "nbformat_minor": 5
}
